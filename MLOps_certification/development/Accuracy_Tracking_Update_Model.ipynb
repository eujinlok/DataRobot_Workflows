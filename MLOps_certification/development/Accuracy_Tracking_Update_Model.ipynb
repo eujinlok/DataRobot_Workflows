{
 "cells": [
  {
   "cell_type": "markdown",
   "metadata": {},
   "source": [
    "# Accuracy tracking and update model\n",
    "\n",
    "This notebook walks through the process of submitting predictions and actuals to MLOps and subsequently, re-building a custom model again to update the model due to drift observed in feature, prediction and accuracy\n",
    "\n",
    "## Agenda\n",
    "We'll do the following:\n",
    "<br/>\n",
    "1. Submit predictions and actuals \n",
    "2. Redraw sample \n",
    "3. Rebuild model \n",
    "4. Final check"
   ]
  },
  {
   "cell_type": "markdown",
   "metadata": {},
   "source": [
    "### Imports\n",
    "First, we need to make the proper imports\n"
   ]
  },
  {
   "cell_type": "code",
   "execution_count": 2,
   "metadata": {},
   "outputs": [
    {
     "name": "stdout",
     "output_type": "stream",
     "text": [
      "3.7.0\n"
     ]
    },
    {
     "data": {
      "text/plain": [
       "'/Users/eu.jin.lok/Documents/GIT-Projects/DataRobot_Workflows/MLOps_certification/development'"
      ]
     },
     "execution_count": 2,
     "metadata": {},
     "output_type": "execute_result"
    }
   ],
   "source": [
    "# sklearn\n",
    "import sklearn \n",
    "from sklearn.model_selection import train_test_split\n",
    "from sklearn.pipeline import Pipeline\n",
    "from sklearn.impute import SimpleImputer\n",
    "from sklearn.preprocessing import StandardScaler, OneHotEncoder\n",
    "from sklearn.compose import make_column_transformer\n",
    "from sklearn.feature_extraction.text import TfidfVectorizer\n",
    "from sklearn.ensemble import GradientBoostingRegressor, RandomForestRegressor\n",
    "from sklearn.linear_model import LinearRegression\n",
    "from sklearn.metrics import mean_squared_error\n",
    "\n",
    "# Datarobot \n",
    "import datarobot as dr\n",
    "from datarobot import Project, Deployment\n",
    "from datarobot.enums import SERVICE_STAT_METRIC, ACCURACY_METRIC\n",
    "dr.Client(config_path='config.yaml')\n",
    "\n",
    "# Others\n",
    "import sys, os\n",
    "import pandas as pd\n",
    "import numpy as np\n",
    "import pickle\n",
    "import requests\n",
    "import json\n",
    "import time \n",
    "import math\n",
    "from datetime import datetime\n",
    "import matplotlib\n",
    "\n",
    "from platform import python_version\n",
    "print(python_version())\n",
    "os.getcwd()"
   ]
  },
  {
   "cell_type": "code",
   "execution_count": 3,
   "metadata": {},
   "outputs": [],
   "source": [
    "with open('Creds.json') as f:\n",
    "    param = json.load(f)\n",
    "\n",
    "DATAROBOT_KEY = param['token']\n",
    "API_KEY = param['key']\n",
    "USERNAME = param['username']\n",
    "DEPLOYMENT_ID = '5e003cc8dd923b0579cc93c4'\n",
    "MAX_PREDICTION_FILE_SIZE_BYTES = 52428800  # 50 MB\n",
    "\n",
    "deployment = dr.Deployment.get(deployment_id=DEPLOYMENT_ID)"
   ]
  },
  {
   "cell_type": "markdown",
   "metadata": {},
   "source": [
    "## 1. Submit predictions and actuals\n",
    "\n",
    "To submit predictions, we'll first need to do a few things. We'll need to configure the association ID and ensure that MLOps knows which column has the unique ID relationship between the predictions and the actuals "
   ]
  },
  {
   "cell_type": "code",
   "execution_count": 13,
   "metadata": {},
   "outputs": [],
   "source": [
    "# Custom fuction required to associate the relationship between predictions and actuals \n",
    "def set_association_id(deployment_id, association_id, allow_missing_values=False):\n",
    "    \"\"\"Assigns the association ID for a deployment\"\"\"\n",
    "    url = f'{BASE_URL}/modelDeployments/{deployment_id}/associationIdSettings/'\n",
    "    \n",
    "    data = {'allowMissingValues': allow_missing_values, 'columnName': association_id}\n",
    "    \n",
    "    resp = requests.patch(url, json=data, headers=HEADERS)\n",
    "    resp.raise_for_status()\n",
    "    return resp.json()\n",
    "\n",
    "# Assign an association ID to the deployment and set up drift tracking\n",
    "'''\n",
    "HEADERS = {\n",
    "    'Content-Type': 'application/json',\n",
    "    'Authorization':  f'Token {API_KEY}'\n",
    "}\n",
    "\n",
    "association_id_column_name = 'SalesID'\n",
    "BASE_URL = 'https://app.datarobot.com/api/v2'\n",
    "\n",
    "set_association_id(deployment.id, association_id_column_name, allow_missing_values=False)\n",
    "'''"
   ]
  },
  {
   "cell_type": "markdown",
   "metadata": {},
   "source": [
    "After setting up the association ID, we need to make predictions via API, and we'll need the python code in MLOps. we can get this from our deployments tab, and under the 'Integrations' tab. We'll save the script and store it somewhere, we'll be invoking it soon.\n",
    "\n",
    "We're going to use the X_test data that we saved before and draw random records from it. We'll do this for the next 5 days leading up to the 27th Dec 2019. Now because we're drawing random records every day, we need to create a new unique ID or else we will be re-submitting previously used records. "
   ]
  },
  {
   "cell_type": "code",
   "execution_count": null,
   "metadata": {},
   "outputs": [],
   "source": [
    "# read data \n",
    "X_test = pd.read_csv(os.getcwd() + '/dataset/X_test.csv', low_memory=False) # low_memory must be added to avoid error\n",
    "y_test = pd.read_csv(os.getcwd() + '/dataset/Y_test.csv', low_memory=False) # low_memory must be added to avoid error\n",
    "XY_test = pd.concat([X_test, y_test],axis=1)\n",
    "\n",
    "# Draw a sequence of records \n",
    "scoring = XY_test.sample(n=2000, replace=False)\n",
    "\n",
    "# Fabricate a different UniqueID so if we drew the same records it won't be an issue\n",
    "scoring.SalesID = scoring.SalesID + int(datetime.now().strftime('%Y%m%d%H%M'))*100000\n",
    "\n",
    "# Save to csv\n",
    "scoring.to_csv(os.getcwd() + \"/dataset/scoring.csv\",index=False, header = True)\n",
    "scoring.head()"
   ]
  },
  {
   "cell_type": "markdown",
   "metadata": {},
   "source": [
    "So to make a submission to MLOps, go to where the script was saved earlier. Run on command line (make sure env activated) on the folder where the script is saved, in this case i've called it 'scoring.py', and specify the path to the dataset:\n",
    "```bash\n",
    "python scoring.py \"dataset/scoring.csv\"\n",
    "```\n",
    "\n",
    "Seperately, we'll need to submit the actuals as well. For the actuals, we'll use the GUI but via the AI Catalog upload."
   ]
  },
  {
   "cell_type": "code",
   "execution_count": 89,
   "metadata": {},
   "outputs": [],
   "source": [
    "# Prep the actuals data format correctly. \n",
    "actuals = scoring[['SalesID','SalePrice']]\n",
    "actuals['was_acted_on'] = 'False'\n",
    "actuals.columns = ['association_id','actual_value','was_acted_on']  # IMPORTANT: Must comply to these names! \n",
    "actuals.association_id = actuals.association_id.astype(str)\n",
    "actuals.actual_value = actuals.actual_value.astype(float)\n",
    "\n",
    "# Save actuals \n",
    "actuals.to_csv(os.getcwd() + \"/dataset/actuals.csv\",index=False, header = True)\n",
    "actuals.head()"
   ]
  },
  {
   "cell_type": "markdown",
   "metadata": {},
   "source": [
    "##  2. Redraw sample \n",
    "The day is 27th Dec 2019, 4 days after the first submissions to MLOps, we've build up about 4 days worth of data. There's a slight data drift but the accuracy and prediction drift looks fine. \n",
    "\n",
    "We will now draw records for submissions from the original dataset that has models made after the year 2000. This will showcase a strong datadrift and hopefully, a huge drift in predictions and accuracy should be observed. "
   ]
  },
  {
   "cell_type": "code",
   "execution_count": 5,
   "metadata": {},
   "outputs": [
    {
     "name": "stdout",
     "output_type": "stream",
     "text": [
      "(63000, 16)\n",
      "(30000, 17)\n"
     ]
    }
   ],
   "source": [
    "# read data \n",
    "df = pd.read_csv(os.getcwd() + '/dataset/fast iron 100k data.csv', low_memory=False) # low_memory must be added to avoid error\n",
    "\n",
    "# subset the data \n",
    "df = df.iloc[:,0:19]\n",
    "df.drop(columns=['fiProductClassDesc'],inplace=True)\n",
    "\n",
    "# munge \n",
    "for i in df.columns:\n",
    "    if df[i].dtypes == 'int64':\n",
    "        df[i].fillna(0, inplace=True)\n",
    "    elif df[i].dtypes == 'float64':\n",
    "        df[i].fillna(0, inplace=True)\n",
    "    else:\n",
    "        df[i].fillna('UNK', inplace=True)\n",
    "\n",
    "# pop out the target on its own\n",
    "y = df.pop('SalePrice')\n",
    "\n",
    "# Split training and test and save them \n",
    "X_train, X_test, y_train, y_test = train_test_split(df, y, train_size = 70000, random_state = 42) # up the traing size\n",
    "X_test.to_csv(os.getcwd() + \"/dataset/X_test_new.csv\",index=False, header = True)\n",
    "y_test.to_csv(os.getcwd() + \"/dataset/Y_test_new.csv\",index=False, header = True)\n",
    "\n",
    "# From training set split futher to get validation set and save them \n",
    "X_train.pop('SalesID')\n",
    "X_train, X_valid, y_train, y_valid = train_test_split(X_train, y_train, train_size = 0.9, random_state = 42)\n",
    "X_train.to_csv(os.getcwd() + \"/dataset/X_train_new.csv\",index=False, header = True)\n",
    "y_train.to_csv(os.getcwd() + \"/dataset/Y_train_new.csv\",index=False, header = True)\n",
    "\n",
    "print(X_train.shape)\n",
    "print(X_test.shape)"
   ]
  },
  {
   "cell_type": "markdown",
   "metadata": {},
   "source": [
    "we'll submit this new dataset for scoring and we should see a drift in the feature, predictions and hopefully accuracy. And as usual, we'll need to submit both the test data and the actuals\n",
    "\n",
    "This set of data however, will be used twice. First on the old model, and secondly on the new model. Because we are using this same dataset, we are comparing apples with apples between old and new model. This builds up a strong demonstration for the model updating. "
   ]
  },
  {
   "cell_type": "code",
   "execution_count": 16,
   "metadata": {},
   "outputs": [
    {
     "name": "stderr",
     "output_type": "stream",
     "text": [
      "/Users/eu.jin.lok/Documents/GIT-Projects/data-science-scripts/eujinlok/MLOps-Demo-Certification/myenv/lib/python3.7/site-packages/ipykernel_launcher.py:18: SettingWithCopyWarning: \n",
      "A value is trying to be set on a copy of a slice from a DataFrame.\n",
      "Try using .loc[row_indexer,col_indexer] = value instead\n",
      "\n",
      "See the caveats in the documentation: http://pandas.pydata.org/pandas-docs/stable/user_guide/indexing.html#returning-a-view-versus-a-copy\n",
      "/Users/eu.jin.lok/Documents/GIT-Projects/data-science-scripts/eujinlok/MLOps-Demo-Certification/myenv/lib/python3.7/site-packages/pandas/core/generic.py:5208: SettingWithCopyWarning: \n",
      "A value is trying to be set on a copy of a slice from a DataFrame.\n",
      "Try using .loc[row_indexer,col_indexer] = value instead\n",
      "\n",
      "See the caveats in the documentation: http://pandas.pydata.org/pandas-docs/stable/user_guide/indexing.html#returning-a-view-versus-a-copy\n",
      "  self[name] = value\n"
     ]
    },
    {
     "data": {
      "text/html": [
       "<div>\n",
       "<style scoped>\n",
       "    .dataframe tbody tr th:only-of-type {\n",
       "        vertical-align: middle;\n",
       "    }\n",
       "\n",
       "    .dataframe tbody tr th {\n",
       "        vertical-align: top;\n",
       "    }\n",
       "\n",
       "    .dataframe thead th {\n",
       "        text-align: right;\n",
       "    }\n",
       "</style>\n",
       "<table border=\"1\" class=\"dataframe\">\n",
       "  <thead>\n",
       "    <tr style=\"text-align: right;\">\n",
       "      <th></th>\n",
       "      <th>association_id</th>\n",
       "      <th>actual_value</th>\n",
       "      <th>was_acted_on</th>\n",
       "    </tr>\n",
       "  </thead>\n",
       "  <tbody>\n",
       "    <tr>\n",
       "      <th>59479</th>\n",
       "      <td>20191227113463644</td>\n",
       "      <td>19500.0</td>\n",
       "      <td>False</td>\n",
       "    </tr>\n",
       "    <tr>\n",
       "      <th>9729</th>\n",
       "      <td>20191227113478204</td>\n",
       "      <td>27000.0</td>\n",
       "      <td>False</td>\n",
       "    </tr>\n",
       "    <tr>\n",
       "      <th>61355</th>\n",
       "      <td>20191227113481086</td>\n",
       "      <td>16500.0</td>\n",
       "      <td>False</td>\n",
       "    </tr>\n",
       "    <tr>\n",
       "      <th>67519</th>\n",
       "      <td>20191227113543560</td>\n",
       "      <td>33000.0</td>\n",
       "      <td>False</td>\n",
       "    </tr>\n",
       "    <tr>\n",
       "      <th>43482</th>\n",
       "      <td>20191227113485196</td>\n",
       "      <td>23500.0</td>\n",
       "      <td>False</td>\n",
       "    </tr>\n",
       "  </tbody>\n",
       "</table>\n",
       "</div>"
      ],
      "text/plain": [
       "          association_id  actual_value was_acted_on\n",
       "59479  20191227113463644       19500.0        False\n",
       "9729   20191227113478204       27000.0        False\n",
       "61355  20191227113481086       16500.0        False\n",
       "67519  20191227113543560       33000.0        False\n",
       "43482  20191227113485196       23500.0        False"
      ]
     },
     "execution_count": 16,
     "metadata": {},
     "output_type": "execute_result"
    }
   ],
   "source": [
    "# read data \n",
    "X_test = pd.read_csv(os.getcwd() + '/dataset/X_test_new.csv', low_memory=False) # low_memory must be added to avoid error\n",
    "y_test = pd.read_csv(os.getcwd() + '/dataset/Y_test_new.csv', low_memory=False) # low_memory must be added to avoid error\n",
    "XY_test = pd.concat([X_test, y_test],axis=1)\n",
    "\n",
    "# Draw a sequence of records \n",
    "scoring = XY_test.sample(n=2000, replace=False)\n",
    "\n",
    "# Fabricate a different UniqueID so if we drew the same records it won't be an issue\n",
    "scoring.SalesID = scoring.SalesID + int(datetime.now().strftime('%Y%m%d%H%M'))*100000\n",
    "\n",
    "# Save to csv\n",
    "scoring.to_csv(os.getcwd() + \"/dataset/scoring_final.csv\",index=False, header = True)\n",
    "scoring.head()\n",
    "\n",
    "# Prep the actuals data format correctly. \n",
    "actuals = scoring[['SalesID','SalePrice']]\n",
    "actuals['was_acted_on'] = 'False'\n",
    "actuals.columns = ['association_id','actual_value','was_acted_on']  # IMPORTANT: Must comply to these names! \n",
    "actuals.association_id = actuals.association_id.astype(str)\n",
    "actuals.actual_value = actuals.actual_value.astype(float)\n",
    "\n",
    "# Save actuals \n",
    "actuals.to_csv(os.getcwd() + \"/dataset/actuals_final.csv\",index=False, header = True)\n",
    "actuals.head()"
   ]
  },
  {
   "cell_type": "markdown",
   "metadata": {},
   "source": [
    "When the 'scoring_final.csv' and the 'actuals_final.csv' files were submitted to MLOps, we observed a huge Feature drift. Prediction and accuracy drift hasn't changed much due to the fact that YearMade isn't a really predictive feature which is slighlty unfortunately. But none the less, feature drift is enough of a strong case \n"
   ]
  },
  {
   "cell_type": "markdown",
   "metadata": {},
   "source": [
    "## 3. Rebuild model\n",
    "Now that we have demonstrated a huge drift, we'll go and build ourselves a new model and replace it. Lets copy the same process, which is the pipeline that we used previously. "
   ]
  },
  {
   "cell_type": "code",
   "execution_count": 6,
   "metadata": {},
   "outputs": [
    {
     "name": "stderr",
     "output_type": "stream",
     "text": [
      "/Users/eu.jin.lok/Documents/GIT-Projects/data-science-scripts/eujinlok/MLOps-Demo-Certification/myenv/lib/python3.7/site-packages/sklearn/ensemble/forest.py:245: FutureWarning: The default value of n_estimators will change from 10 in version 0.20 to 100 in 0.22.\n",
      "  \"10 in version 0.20 to 100 in 0.22.\", FutureWarning)\n"
     ]
    },
    {
     "data": {
      "text/plain": [
       "Pipeline(memory=None,\n",
       "         steps=[('Preprocessing',\n",
       "                 ColumnTransformer(n_jobs=None, remainder='drop',\n",
       "                                   sparse_threshold=0.3,\n",
       "                                   transformer_weights=None,\n",
       "                                   transformers=[('pipeline-1',\n",
       "                                                  Pipeline(memory=None,\n",
       "                                                           steps=[('Imputation',\n",
       "                                                                   SimpleImputer(add_indicator=False,\n",
       "                                                                                 copy=True,\n",
       "                                                                                 fill_value=None,\n",
       "                                                                                 missing_values=nan,\n",
       "                                                                                 strategy='mean',\n",
       "                                                                                 verbose=0)),\n",
       "                                                                  ('Scaling',\n",
       "                                                                   StandardScaler(copy=True...\n",
       "                ('Random Forest Regressor',\n",
       "                 RandomForestRegressor(bootstrap=True, criterion='mse',\n",
       "                                       max_depth=None, max_features='auto',\n",
       "                                       max_leaf_nodes=None,\n",
       "                                       min_impurity_decrease=0.0,\n",
       "                                       min_impurity_split=None,\n",
       "                                       min_samples_leaf=1, min_samples_split=2,\n",
       "                                       min_weight_fraction_leaf=0.0,\n",
       "                                       n_estimators=10, n_jobs=None,\n",
       "                                       oob_score=False, random_state=None,\n",
       "                                       verbose=0, warm_start=False))],\n",
       "         verbose=False)"
      ]
     },
     "execution_count": 6,
     "metadata": {},
     "output_type": "execute_result"
    }
   ],
   "source": [
    "# Split the feature types   \n",
    "numeric_features = list(X_train.select_dtypes(include=np.number).columns.values)\n",
    "categorical_features = list(set(X_train.columns) - set(numeric_features))\n",
    "\n",
    "# Create pipeline for numericals \n",
    "numeric_preprocessing = Pipeline(\n",
    "    [('Imputation', SimpleImputer(strategy='mean')), ('Scaling', StandardScaler())]\n",
    ")\n",
    "\n",
    "# Create pipeline for categorical \n",
    "categorical_preprocessing = Pipeline(\n",
    "    [\n",
    "        ('Imputation', SimpleImputer(strategy='constant', fill_value='UNK')),\n",
    "        ('One Hot Encoding', OneHotEncoder(handle_unknown='ignore')),\n",
    "    ]\n",
    ")\n",
    "\n",
    "# Build in the transformer \n",
    "preprocessing = make_column_transformer(\n",
    "    (numeric_preprocessing, numeric_features),\n",
    "    (categorical_preprocessing, categorical_features),\n",
    ")\n",
    "\n",
    "# Chain the pipelines \n",
    "pipeline = Pipeline(\n",
    "    [('Preprocessing', preprocessing), ('Random Forest Regressor', RandomForestRegressor())]\n",
    ")\n",
    "\n",
    "# Now fit it to the training data \n",
    "pipeline.fit(X_train, y_train)"
   ]
  },
  {
   "cell_type": "markdown",
   "metadata": {},
   "source": [
    "### Evaluate\n",
    "\n",
    "To make sure we're doing things right, lets run through a quick evaluation check. We should still hit around the same mark which is the 11k RMSE "
   ]
  },
  {
   "cell_type": "code",
   "execution_count": 8,
   "metadata": {},
   "outputs": [
    {
     "name": "stdout",
     "output_type": "stream",
     "text": [
      "RMSE = 10468.168277245752\n"
     ]
    },
    {
     "data": {
      "image/png": "[encoded data removed]",
      "text/plain": [
       "<Figure size 432x288 with 1 Axes>"
      ]
     },
     "metadata": {
      "needs_background": "light"
     },
     "output_type": "display_data"
    }
   ],
   "source": [
    "# predict test instances\n",
    "y_preds = pipeline.predict(X_valid)\n",
    "y_preds = pd.concat([y_valid.reset_index(drop=True),pd.DataFrame(y_preds)],axis=1)\n",
    "y_preds.columns = ['actuals','predict']\n",
    "\n",
    "# RMSE\n",
    "print('RMSE = ' + str(math.sqrt(mean_squared_error(y_preds.actuals,y_preds.predict))))\n",
    "\n",
    "# Plot \n",
    "ax1 = y_preds.plot.scatter(x='actuals',\n",
    "                       y='predict',\n",
    "                       c='DarkBlue')"
   ]
  },
  {
   "cell_type": "markdown",
   "metadata": {},
   "source": [
    "Great so its consistent, now let's reupload this new model to MLOps. We'll need to pickle this new pipeline as well and TAR it like before. Make sure to follow the same process as before or else we need to modify that .sh file again."
   ]
  },
  {
   "cell_type": "code",
   "execution_count": 9,
   "metadata": {},
   "outputs": [],
   "source": [
    "# Pickle the pipeline\n",
    "with open('custom_model.pickle', 'wb') as picklefile:\n",
    "    pickle.dump(pipeline, picklefile)\n",
    "    \n",
    "# Save the train dataset with the target for MLOps\n",
    "df = pd.concat([X_train, pd.DataFrame(y_train)], axis=1, sort=False)\n",
    "df.to_csv(os.getcwd() + \"/dataset/XY_train_final.csv\",index=False, header = True)"
   ]
  },
  {
   "cell_type": "markdown",
   "metadata": {},
   "source": [
    "## 4. Final check\n",
    "\n",
    "Now as a final check we will resubmit the same tar.gz file to MLOps. Note that previous deployment will not be replaced. Rather we replace it with a new model that we just uploaded. To do this the steps are: \n",
    "\n",
    "1. Select the current deployment that we are working on, and select the custom model embedded link\n",
    "2. Here, add a new model version (in tar.gz format) and test the deployment using the new dataset \n",
    "3. If test passed, DON'T click ADD Deployment. Instead...\n",
    "6. We need to change the learning data that is under 'Model Info' tab\n",
    "4. When finished, go back to deployments, select the 'burger' menu for the current deployment that we are using...\n",
    "5. and select replace model and we should be able to see the correct combination. Select that and we're done\n",
    "\n",
    "Now the deployment has a new model. We need to re-submit the predictions again \n",
    "```bash\n",
    "python scoring.py \"dataset/scoring_final.csv\"\n",
    "```\n",
    "\n",
    "We don't need to alter anything in the script as the deployment hasn't changed. Also note that because we've previously submitted this file, MLOps will automaticaly detect the actuals csv file as well which we submitted earlier on. So, we should now be able to observe that: \n",
    "\n",
    "1. Feature drift fixed \n",
    "We no longer see the YearMade going off track. Thou we seem to be observing a huge drift problem with fiModelDescription which seems to be a bug? fiBaseModel seems to have also increased in drift despite detecting more new levels from the increased dataset. \n",
    "\n",
    "2. Accuracy improvement  \n",
    "So overall our accuracy has improved quite a fair bit from 11k down to 7k. \n"
   ]
  }
 ],
 "metadata": {
  "kernelspec": {
   "display_name": "Python 3",
   "language": "python",
   "name": "python3"
  },
  "language_info": {
   "codemirror_mode": {
    "name": "ipython",
    "version": 3
   },
   "file_extension": ".py",
   "mimetype": "text/x-python",
   "name": "python",
   "nbconvert_exporter": "python",
   "pygments_lexer": "ipython3",
   "version": "3.7.0"
  }
 },
 "nbformat": 4,
 "nbformat_minor": 2
}
