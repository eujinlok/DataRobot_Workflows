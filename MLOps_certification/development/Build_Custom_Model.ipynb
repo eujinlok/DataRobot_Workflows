{
 "cells": [
  {
   "cell_type": "markdown",
   "metadata": {},
   "source": [
    "# Build custom model \n",
    "\n",
    "This notebook walks through the process of preparing the dataset and the subsequently building a custom model in python for the MLOps certification. \n",
    "\n",
    "## Agenda\n",
    "We'll do the following:\n",
    "<br/>\n",
    "1. Get a dataset suitable and prepare it for drift demonstration\n",
    "2. Modify the dataset via\n",
    "    - removing a subset of the data - YearMade of 2000 or older\n",
    "    - randomly selecting from this subset, 20k for training and validation \n",
    "    - the rest of subset reserved as test set which we will we make submissions and feedback actuals\n",
    "3. Build a RandomForest regressor model \n",
    "4. Pickle the pipeline \n",
    "5. TAR the assets submit to MLOps "
   ]
  },
  {
   "cell_type": "markdown",
   "metadata": {},
   "source": [
    "### Imports\n",
    "First, we need to make the proper imports"
   ]
  },
  {
   "cell_type": "code",
   "execution_count": 5,
   "metadata": {},
   "outputs": [
    {
     "name": "stdout",
     "output_type": "stream",
     "text": [
      "3.7.0\n"
     ]
    },
    {
     "data": {
      "text/plain": [
       "'/Users/eu.jin.lok/Documents/GIT-Projects/DataRobot_Workflows/MLOps_certification/development'"
      ]
     },
     "execution_count": 5,
     "metadata": {},
     "output_type": "execute_result"
    }
   ],
   "source": [
    "# sklearn\n",
    "import sklearn \n",
    "from sklearn.model_selection import train_test_split\n",
    "from sklearn.pipeline import Pipeline\n",
    "from sklearn.impute import SimpleImputer\n",
    "from sklearn.preprocessing import StandardScaler, OneHotEncoder\n",
    "from sklearn.compose import make_column_transformer\n",
    "from sklearn.feature_extraction.text import TfidfVectorizer\n",
    "from sklearn.ensemble import GradientBoostingRegressor, RandomForestRegressor\n",
    "from sklearn.linear_model import LinearRegression\n",
    "from sklearn.metrics import mean_squared_error\n",
    "\n",
    "# others\n",
    "import sys\n",
    "import os\n",
    "import math\n",
    "import sklearn\n",
    "import pandas as pd \n",
    "import numpy as np \n",
    "import pickle\n",
    "\n",
    "from platform import python_version\n",
    "print(python_version())\n",
    "os.getcwd()"
   ]
  },
  {
   "cell_type": "markdown",
   "metadata": {},
   "source": [
    "## 1. Get the dataset\n",
    "We'll be using the fast iron 100k dataset that comes from the DRU course. This is ideal for a few reason, one being that it is a regression which is different, and secondly its very suitable for simulating a model degradation. But in order to do that, we'll need to do a few modifications \n",
    "\n",
    "First thing we're going to do is remove all models made in year 2000 and beyond. This will 'drift' our dataset which we will build up a story for data drift. "
   ]
  },
  {
   "cell_type": "code",
   "execution_count": 6,
   "metadata": {},
   "outputs": [
    {
     "name": "stdout",
     "output_type": "stream",
     "text": [
      "(83163, 18)\n"
     ]
    },
    {
     "data": {
      "text/html": [
       "<div>\n",
       "<style scoped>\n",
       "    .dataframe tbody tr th:only-of-type {\n",
       "        vertical-align: middle;\n",
       "    }\n",
       "\n",
       "    .dataframe tbody tr th {\n",
       "        vertical-align: top;\n",
       "    }\n",
       "\n",
       "    .dataframe thead th {\n",
       "        text-align: right;\n",
       "    }\n",
       "</style>\n",
       "<table border=\"1\" class=\"dataframe\">\n",
       "  <thead>\n",
       "    <tr style=\"text-align: right;\">\n",
       "      <th></th>\n",
       "      <th>SalesID</th>\n",
       "      <th>SalePrice</th>\n",
       "      <th>MachineID</th>\n",
       "      <th>ModelID</th>\n",
       "      <th>datasource</th>\n",
       "      <th>auctioneerID</th>\n",
       "      <th>YearMade</th>\n",
       "      <th>MachineHoursCurrentMeter</th>\n",
       "      <th>UsageBand</th>\n",
       "      <th>saledate</th>\n",
       "      <th>fiModelDesc</th>\n",
       "      <th>fiBaseModel</th>\n",
       "      <th>fiSecondaryDesc</th>\n",
       "      <th>fiModelSeries</th>\n",
       "      <th>fiModelDescriptor</th>\n",
       "      <th>ProductSize</th>\n",
       "      <th>state</th>\n",
       "      <th>ProductGroup</th>\n",
       "    </tr>\n",
       "  </thead>\n",
       "  <tbody>\n",
       "    <tr>\n",
       "      <th>1</th>\n",
       "      <td>1139248</td>\n",
       "      <td>57000</td>\n",
       "      <td>117657</td>\n",
       "      <td>77</td>\n",
       "      <td>121</td>\n",
       "      <td>3</td>\n",
       "      <td>1996</td>\n",
       "      <td>4640.0</td>\n",
       "      <td>Low</td>\n",
       "      <td>3/26/2004 0:00</td>\n",
       "      <td>950FII</td>\n",
       "      <td>950</td>\n",
       "      <td>F</td>\n",
       "      <td>II</td>\n",
       "      <td>UNK</td>\n",
       "      <td>Medium</td>\n",
       "      <td>North Carolina</td>\n",
       "      <td>WL</td>\n",
       "    </tr>\n",
       "    <tr>\n",
       "      <th>6</th>\n",
       "      <td>1139256</td>\n",
       "      <td>21000</td>\n",
       "      <td>772701</td>\n",
       "      <td>1937</td>\n",
       "      <td>121</td>\n",
       "      <td>3</td>\n",
       "      <td>1993</td>\n",
       "      <td>11540.0</td>\n",
       "      <td>High</td>\n",
       "      <td>8/26/2004 0:00</td>\n",
       "      <td>790ELC</td>\n",
       "      <td>790</td>\n",
       "      <td>E</td>\n",
       "      <td>UNK</td>\n",
       "      <td>LC</td>\n",
       "      <td>Large / Medium</td>\n",
       "      <td>Florida</td>\n",
       "      <td>TEX</td>\n",
       "    </tr>\n",
       "    <tr>\n",
       "      <th>9</th>\n",
       "      <td>1139275</td>\n",
       "      <td>65000</td>\n",
       "      <td>1016474</td>\n",
       "      <td>3883</td>\n",
       "      <td>121</td>\n",
       "      <td>3</td>\n",
       "      <td>1000</td>\n",
       "      <td>20700.0</td>\n",
       "      <td>Medium</td>\n",
       "      <td>8/9/2007 0:00</td>\n",
       "      <td>988B</td>\n",
       "      <td>988</td>\n",
       "      <td>B</td>\n",
       "      <td>UNK</td>\n",
       "      <td>UNK</td>\n",
       "      <td>Large</td>\n",
       "      <td>Florida</td>\n",
       "      <td>WL</td>\n",
       "    </tr>\n",
       "    <tr>\n",
       "      <th>11</th>\n",
       "      <td>1139282</td>\n",
       "      <td>22500</td>\n",
       "      <td>319906</td>\n",
       "      <td>5255</td>\n",
       "      <td>121</td>\n",
       "      <td>3</td>\n",
       "      <td>1998</td>\n",
       "      <td>2764.0</td>\n",
       "      <td>Low</td>\n",
       "      <td>8/24/2006 0:00</td>\n",
       "      <td>D31E</td>\n",
       "      <td>D31</td>\n",
       "      <td>E</td>\n",
       "      <td>UNK</td>\n",
       "      <td>UNK</td>\n",
       "      <td>UNK</td>\n",
       "      <td>Ohio</td>\n",
       "      <td>TTT</td>\n",
       "    </tr>\n",
       "    <tr>\n",
       "      <th>12</th>\n",
       "      <td>1139283</td>\n",
       "      <td>36000</td>\n",
       "      <td>1052214</td>\n",
       "      <td>2232</td>\n",
       "      <td>121</td>\n",
       "      <td>3</td>\n",
       "      <td>1998</td>\n",
       "      <td>0.0</td>\n",
       "      <td>UNK</td>\n",
       "      <td>10/20/2005 0:00</td>\n",
       "      <td>PC200LC6</td>\n",
       "      <td>PC200</td>\n",
       "      <td>UNK</td>\n",
       "      <td>LC</td>\n",
       "      <td>6</td>\n",
       "      <td>Large / Medium</td>\n",
       "      <td>Ohio</td>\n",
       "      <td>TEX</td>\n",
       "    </tr>\n",
       "  </tbody>\n",
       "</table>\n",
       "</div>"
      ],
      "text/plain": [
       "    SalesID  SalePrice  MachineID  ModelID  datasource  auctioneerID  \\\n",
       "1   1139248      57000     117657       77         121             3   \n",
       "6   1139256      21000     772701     1937         121             3   \n",
       "9   1139275      65000    1016474     3883         121             3   \n",
       "11  1139282      22500     319906     5255         121             3   \n",
       "12  1139283      36000    1052214     2232         121             3   \n",
       "\n",
       "    YearMade  MachineHoursCurrentMeter UsageBand         saledate fiModelDesc  \\\n",
       "1       1996                    4640.0       Low   3/26/2004 0:00      950FII   \n",
       "6       1993                   11540.0      High   8/26/2004 0:00      790ELC   \n",
       "9       1000                   20700.0    Medium    8/9/2007 0:00        988B   \n",
       "11      1998                    2764.0       Low   8/24/2006 0:00        D31E   \n",
       "12      1998                       0.0       UNK  10/20/2005 0:00    PC200LC6   \n",
       "\n",
       "   fiBaseModel fiSecondaryDesc fiModelSeries fiModelDescriptor  \\\n",
       "1          950               F            II               UNK   \n",
       "6          790               E           UNK                LC   \n",
       "9          988               B           UNK               UNK   \n",
       "11         D31               E           UNK               UNK   \n",
       "12       PC200             UNK            LC                 6   \n",
       "\n",
       "       ProductSize           state ProductGroup  \n",
       "1           Medium  North Carolina           WL  \n",
       "6   Large / Medium         Florida          TEX  \n",
       "9            Large         Florida           WL  \n",
       "11             UNK            Ohio          TTT  \n",
       "12  Large / Medium            Ohio          TEX  "
      ]
     },
     "execution_count": 6,
     "metadata": {},
     "output_type": "execute_result"
    }
   ],
   "source": [
    "# read data \n",
    "df = pd.read_csv(os.getcwd() + '/dataset/fast iron 100k data.csv', low_memory=False) # low_memory must be added to avoid error\n",
    "\n",
    "# subset the data \n",
    "df = df.iloc[:,0:19]\n",
    "df.drop(columns=['fiProductClassDesc'],inplace=True)\n",
    "df = df.query(\"YearMade <= 2000\")  \n",
    "\n",
    "# munge \n",
    "for i in df.columns:\n",
    "    if df[i].dtypes == 'int64':\n",
    "        df[i].fillna(0, inplace=True)\n",
    "    elif df[i].dtypes == 'float64':\n",
    "        df[i].fillna(0, inplace=True)\n",
    "    else:\n",
    "        df[i].fillna('UNK', inplace=True)\n",
    "\n",
    "print(df.shape)\n",
    "df.head()"
   ]
  },
  {
   "cell_type": "markdown",
   "metadata": {},
   "source": [
    "## 2. Subset the data \n",
    "\n",
    "We will now split the dataset into multiple chunks: \n",
    "1. For Training \n",
    "2. For validation \n",
    "3. For subsequent scoring (test)"
   ]
  },
  {
   "cell_type": "code",
   "execution_count": 7,
   "metadata": {},
   "outputs": [
    {
     "name": "stdout",
     "output_type": "stream",
     "text": [
      "(15000, 16)\n",
      "(63163, 17)\n",
      "(5000, 16)\n",
      "(15000,)\n",
      "(63163,)\n",
      "(5000,)\n"
     ]
    }
   ],
   "source": [
    "# pop out the target on its own\n",
    "y = df.pop('SalePrice')\n",
    "\n",
    "# Split training and test and save them \n",
    "X_train, X_test, y_train, y_test = train_test_split(df, y, train_size = 20000, random_state = 42)\n",
    "X_test.to_csv(os.getcwd() + \"/dataset/X_test.csv\",index=False, header = True)\n",
    "y_test.to_csv(os.getcwd() + \"/dataset/Y_test.csv\",index=False, header = True)\n",
    "\n",
    "# From training set split futher to get validation set and save them \n",
    "X_train.pop('SalesID')\n",
    "X_train, X_valid, y_train, y_valid = train_test_split(X_train, y_train, train_size = 0.75, random_state = 42)\n",
    "X_train.to_csv(os.getcwd() + \"/dataset/X_train.csv\",index=False, header = True)\n",
    "y_train.to_csv(os.getcwd() + \"/dataset/Y_train.csv\",index=False, header = True)\n",
    "\n",
    "print(X_train.shape)\n",
    "print(X_test.shape)\n",
    "print(X_valid.shape)\n",
    "print(y_train.shape)\n",
    "print(y_test.shape)\n",
    "print(y_valid.shape)"
   ]
  },
  {
   "cell_type": "markdown",
   "metadata": {},
   "source": [
    "## 3. Build the model \n",
    "\n",
    "Now that we have our dataset, we'll need to do some recoding and transformation, and we'll create a pipeline processsing for this, by using the sklearn 'pipeline'. That way it ensures we can score the data in its rawrest form and get it pre-process in accordance to our blueprint"
   ]
  },
  {
   "cell_type": "code",
   "execution_count": 8,
   "metadata": {},
   "outputs": [
    {
     "name": "stderr",
     "output_type": "stream",
     "text": [
      "/Users/eu.jin.lok/Documents/GIT-Projects/data-science-scripts/eujinlok/MLOps-Demo-Certification/myenv/lib/python3.7/site-packages/sklearn/ensemble/forest.py:245: FutureWarning: The default value of n_estimators will change from 10 in version 0.20 to 100 in 0.22.\n",
      "  \"10 in version 0.20 to 100 in 0.22.\", FutureWarning)\n"
     ]
    },
    {
     "data": {
      "text/plain": [
       "Pipeline(memory=None,\n",
       "         steps=[('Preprocessing',\n",
       "                 ColumnTransformer(n_jobs=None, remainder='drop',\n",
       "                                   sparse_threshold=0.3,\n",
       "                                   transformer_weights=None,\n",
       "                                   transformers=[('pipeline-1',\n",
       "                                                  Pipeline(memory=None,\n",
       "                                                           steps=[('Imputation',\n",
       "                                                                   SimpleImputer(add_indicator=False,\n",
       "                                                                                 copy=True,\n",
       "                                                                                 fill_value=None,\n",
       "                                                                                 missing_values=nan,\n",
       "                                                                                 strategy='mean',\n",
       "                                                                                 verbose=0)),\n",
       "                                                                  ('Scaling',\n",
       "                                                                   StandardScaler(copy=True...\n",
       "                ('Random Forest Regressor',\n",
       "                 RandomForestRegressor(bootstrap=True, criterion='mse',\n",
       "                                       max_depth=None, max_features='auto',\n",
       "                                       max_leaf_nodes=None,\n",
       "                                       min_impurity_decrease=0.0,\n",
       "                                       min_impurity_split=None,\n",
       "                                       min_samples_leaf=1, min_samples_split=2,\n",
       "                                       min_weight_fraction_leaf=0.0,\n",
       "                                       n_estimators=10, n_jobs=None,\n",
       "                                       oob_score=False, random_state=None,\n",
       "                                       verbose=0, warm_start=False))],\n",
       "         verbose=False)"
      ]
     },
     "execution_count": 8,
     "metadata": {},
     "output_type": "execute_result"
    }
   ],
   "source": [
    "# Split the feature types   \n",
    "numeric_features = list(X_train.select_dtypes(include=np.number).columns.values)\n",
    "categorical_features = list(set(X_train.columns) - set(numeric_features))\n",
    "\n",
    "# Create pipeline for numericals \n",
    "numeric_preprocessing = Pipeline(\n",
    "    [('Imputation', SimpleImputer(strategy='mean')), ('Scaling', StandardScaler())]\n",
    ")\n",
    "\n",
    "# Create pipeline for categorical \n",
    "categorical_preprocessing = Pipeline(\n",
    "    [\n",
    "        ('Imputation', SimpleImputer(strategy='constant', fill_value='UNK')),\n",
    "        ('One Hot Encoding', OneHotEncoder(handle_unknown='ignore')),\n",
    "    ]\n",
    ")\n",
    "\n",
    "# Build in the transformer \n",
    "preprocessing = make_column_transformer(\n",
    "    (numeric_preprocessing, numeric_features),\n",
    "    (categorical_preprocessing, categorical_features),\n",
    ")\n",
    "\n",
    "# Chain the pipelines \n",
    "pipeline = Pipeline(\n",
    "    [('Preprocessing', preprocessing), ('Random Forest Regressor', RandomForestRegressor())]\n",
    ")\n",
    "\n",
    "# Now fit it to the training data \n",
    "pipeline.fit(X_train, y_train)"
   ]
  },
  {
   "cell_type": "markdown",
   "metadata": {},
   "source": [
    "##  Evaluate\n",
    "To make sure we're doing things right, lets run through a quick evaluation check "
   ]
  },
  {
   "cell_type": "code",
   "execution_count": 11,
   "metadata": {},
   "outputs": [
    {
     "name": "stdout",
     "output_type": "stream",
     "text": [
      "RMSE = 11252.026020677342\n"
     ]
    },
    {
     "data": {
      "image/png": "[encoded data removed]",
      "text/plain": [
       "<Figure size 432x288 with 1 Axes>"
      ]
     },
     "metadata": {
      "needs_background": "light"
     },
     "output_type": "display_data"
    }
   ],
   "source": [
    "# predict test instances\n",
    "y_preds = pipeline.predict(X_valid)\n",
    "y_preds = pd.concat([y_valid.reset_index(drop=True),pd.DataFrame(y_preds)],axis=1)\n",
    "y_preds.columns = ['actuals','predict']\n",
    "\n",
    "# RMSE\n",
    "print('RMSE = ' + str(math.sqrt(mean_squared_error(y_preds.actuals,y_preds.predict))))\n",
    "\n",
    "# Plot \n",
    "ax1 = y_preds.plot.scatter(x='actuals',\n",
    "                       y='predict',\n",
    "                       c='DarkBlue')"
   ]
  },
  {
   "cell_type": "markdown",
   "metadata": {},
   "source": [
    "## 4. Pickle the pipeline \n",
    "Now we make a pickle and deploy this custom model to MLOps"
   ]
  },
  {
   "cell_type": "code",
   "execution_count": 75,
   "metadata": {},
   "outputs": [],
   "source": [
    "with open('custom_model.pickle', 'wb') as picklefile:\n",
    "    pickle.dump(pipeline, picklefile)\n",
    "    \n",
    "# Save the train dataset with the target for MLOps\n",
    "df = pd.concat([X_train, pd.DataFrame(y_train)], axis=1, sort=False)\n",
    "df.to_csv(os.getcwd() + \"/dataset/XY_train.csv\",index=False, header = True)"
   ]
  },
  {
   "cell_type": "markdown",
   "metadata": {},
   "source": [
    "## 5. TAR the assets and submit to MLOps\n",
    "\n",
    "### IMPORTANT\n",
    "When submitting first time the ###.Tar.gz files, gave this error:\n",
    "```\n",
    "Error testing model: Provided custom model and environment cannot be used together. Custom model archive does not contain start_server.sh in the archive root. Environment archive does not contain start_server.sh in the archive root\n",
    "```\n",
    "This is related to the custom_model_template where the server is not recognising that start_server.sh is an executable. So to fix that, go to the directory with the executable and run on command line:\n",
    "```bash\n",
    "chmod +x start_server.sh\n",
    "```\n",
    "Then TAR ball the directories again by going to the original Custom Model Tempates repo and run on command line\n",
    "```bash\n",
    "tar -czf python_model.tar.gz python_model\n",
    "```"
   ]
  }
 ],
 "metadata": {
  "kernelspec": {
   "display_name": "Python 3",
   "language": "python",
   "name": "python3"
  },
  "language_info": {
   "codemirror_mode": {
    "name": "ipython",
    "version": 3
   },
   "file_extension": ".py",
   "mimetype": "text/x-python",
   "name": "python",
   "nbconvert_exporter": "python",
   "pygments_lexer": "ipython3",
   "version": "3.7.0"
  }
 },
 "nbformat": 4,
 "nbformat_minor": 2
}
